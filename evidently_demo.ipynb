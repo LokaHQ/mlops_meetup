{
 "cells": [
  {
   "cell_type": "markdown",
   "id": "43e9d5cb",
   "metadata": {},
   "source": [
    "![alt text](assets/evidently_ai_logo_fi.png \"Title\")\n",
    "\n",
    "For docs and more: https://evidentlyai.com"
   ]
  },
  {
   "cell_type": "markdown",
   "id": "20d4b273",
   "metadata": {},
   "source": [
    "### Prepare the environment"
   ]
  },
  {
   "cell_type": "code",
   "execution_count": null,
   "id": "c377ba04",
   "metadata": {},
   "outputs": [],
   "source": [
    "%conda install evidently"
   ]
  },
  {
   "cell_type": "code",
   "execution_count": null,
   "id": "2e99ba31",
   "metadata": {},
   "outputs": [],
   "source": [
    "# Enable interactive reports inside jupyter notebook\n",
    "!jupyter nbextension install --sys-prefix --symlink --overwrite --py evidently\n",
    "!jupyter nbextension enable evidently --py --sys-prefix"
   ]
  },
  {
   "cell_type": "markdown",
   "id": "a8060a22",
   "metadata": {},
   "source": [
    "### Import necessary libraries"
   ]
  },
  {
   "cell_type": "code",
   "execution_count": null,
   "id": "c7c1a0e0",
   "metadata": {},
   "outputs": [],
   "source": [
    "import numpy as np\n",
    "import pandas as pd\n",
    "from sklearn.ensemble import RandomForestClassifier\n",
    "from sklearn.model_selection import train_test_split"
   ]
  },
  {
   "cell_type": "code",
   "execution_count": null,
   "id": "aa6c8729",
   "metadata": {},
   "outputs": [],
   "source": [
    "# For interactive and HTML reports\n",
    "from evidently.dashboard import Dashboard\n",
    "from evidently.tabs import DataDriftTab, NumTargetDriftTab, CatTargetDriftTab, ClassificationPerformanceTab"
   ]
  },
  {
   "cell_type": "code",
   "execution_count": null,
   "id": "f3cbabfb",
   "metadata": {},
   "outputs": [],
   "source": [
    "# To generate JSON profiles\n",
    "from evidently.model_profile import Profile\n",
    "from evidently.profile_sections import DataDriftProfileSection"
   ]
  },
  {
   "cell_type": "markdown",
   "id": "c0a76f71",
   "metadata": {},
   "source": [
    "## Customer churn \n",
    "\n",
    "- Churn rate: % of customers or employees who leave a company/service over time\n",
    "- Predicting churn rate is important to optimize customer retention\n",
    "- Churn is can be prevented by identifying users at risk\n",
    "\n",
    "### Data: \n",
    "- Customer churn from a US mobile provider\n",
    "- Size: 5000 records, 20 customer attributes (features)\n",
    "- Model: Binary classification"
   ]
  },
  {
   "cell_type": "markdown",
   "id": "de1b73dd",
   "metadata": {},
   "source": [
    "### Load data and pre-processing"
   ]
  },
  {
   "cell_type": "code",
   "execution_count": null,
   "id": "19a89620",
   "metadata": {},
   "outputs": [],
   "source": [
    "raw_data = pd.read_csv('data/churn.txt')"
   ]
  },
  {
   "cell_type": "code",
   "execution_count": null,
   "id": "2a3d9999",
   "metadata": {},
   "outputs": [],
   "source": [
    "raw_data.columns"
   ]
  },
  {
   "cell_type": "code",
   "execution_count": null,
   "id": "c8b23cef",
   "metadata": {},
   "outputs": [],
   "source": [
    "raw_data.head()"
   ]
  },
  {
   "cell_type": "code",
   "execution_count": null,
   "id": "4a802784",
   "metadata": {},
   "outputs": [],
   "source": [
    "drop_c = ['State', 'Account Length', 'Area Code', 'Phone', \"Int'l Plan\", 'VMail Plan', 'VMail Message', 'CustServ Calls']\n",
    "raw_data = raw_data.drop(drop_c, axis=1)"
   ]
  },
  {
   "cell_type": "code",
   "execution_count": null,
   "id": "f7820004",
   "metadata": {},
   "outputs": [],
   "source": [
    "raw_data['churn'] = [0 if churn == 'False.' else 1 for churn in raw_data['Churn?'].values]\n",
    "raw_data = raw_data.drop(['Churn?'], axis=1)"
   ]
  },
  {
   "cell_type": "code",
   "execution_count": null,
   "id": "0fca313e",
   "metadata": {},
   "outputs": [],
   "source": [
    "feature_c = ['Day Mins', 'Day Calls', 'Day Charge', 'Eve Mins', 'Eve Calls', 'Eve Charge', 'Night Mins', 'Night Calls', 'Night Charge', 'Intl Mins', 'Intl Calls', 'Intl Charge']\n",
    "target_c = 'churn'"
   ]
  },
  {
   "cell_type": "code",
   "execution_count": null,
   "id": "73cfac69",
   "metadata": {},
   "outputs": [],
   "source": [
    "raw_data.head()"
   ]
  },
  {
   "cell_type": "markdown",
   "id": "8c7b68e3",
   "metadata": {},
   "source": [
    "## Split the dataset into train and test\n",
    "\n",
    "<b>Evidently</b> compares <b>reference</b> and <b>production</b> data!\n",
    "\n",
    "In this example <b>train</b> data will be our <b>reference</b> and <b>test</b> our <b>production</b> dataset. "
   ]
  },
  {
   "cell_type": "code",
   "execution_count": null,
   "id": "8cbfcaa9",
   "metadata": {},
   "outputs": [],
   "source": [
    "train, test = train_test_split(raw_data, test_size=0.20, random_state=1)"
   ]
  },
  {
   "cell_type": "code",
   "execution_count": null,
   "id": "ed84debf",
   "metadata": {},
   "outputs": [],
   "source": [
    "clf = RandomForestClassifier(\n",
    "    max_depth=5,\n",
    "    random_state=0\n",
    ")"
   ]
  },
  {
   "cell_type": "code",
   "execution_count": null,
   "id": "5da2c4b8",
   "metadata": {},
   "outputs": [],
   "source": [
    "clf.fit(train[feature_c], train[target_c])"
   ]
  },
  {
   "cell_type": "code",
   "execution_count": null,
   "id": "3cdd2d8b",
   "metadata": {},
   "outputs": [],
   "source": [
    "clf.predict(test[feature_c].iloc[:10])"
   ]
  },
  {
   "cell_type": "markdown",
   "id": "99fe07db",
   "metadata": {},
   "source": [
    "## Evidently reports\n",
    "\n",
    "The following reports are available\n",
    "\n",
    "- <b>DataDriftTab</b> to estimate the data drift\n",
    "- <b>NumTargetDriftTab</b> to estimate target drift for the numerical target \n",
    "- <b>CatTargetDriftTab</b> to estimate target drift for the categorical target \n",
    "- <b>RegressionPerformanceTab</b> to explore the performance of a regression model\n",
    "- <b>ClassificationPerformanceTab</b> to explore the performance of a classification model\n",
    "- <b>ProbClassificationPerformanceTab</b> to explore the performance of a probabilistic classification model "
   ]
  },
  {
   "cell_type": "code",
   "execution_count": null,
   "id": "3408fefc",
   "metadata": {},
   "outputs": [],
   "source": [
    "column_mapping = {}\n",
    "column_mapping['target'] = target_c # 'churn' columns\n",
    "column_mapping['numerical_features'] = feature_c # feature columns"
   ]
  },
  {
   "cell_type": "markdown",
   "id": "a3a9e835",
   "metadata": {},
   "source": [
    "### Data drift\n",
    "\n",
    "Detects changes in feature distribution"
   ]
  },
  {
   "cell_type": "code",
   "execution_count": null,
   "id": "906afed2",
   "metadata": {},
   "outputs": [],
   "source": [
    "data_drift = Dashboard(tabs=[DataDriftTab])"
   ]
  },
  {
   "cell_type": "code",
   "execution_count": null,
   "id": "5ab3f03f",
   "metadata": {},
   "outputs": [],
   "source": [
    "data_drift.calculate(train, test, column_mapping=column_mapping)"
   ]
  },
  {
   "cell_type": "code",
   "execution_count": null,
   "id": "fbe48f53",
   "metadata": {},
   "outputs": [],
   "source": [
    "# Save the report as an html file\n",
    "data_drift.save('report.html')"
   ]
  },
  {
   "cell_type": "code",
   "execution_count": null,
   "id": "a6f7a63e",
   "metadata": {},
   "outputs": [],
   "source": [
    "data_drift.show()"
   ]
  },
  {
   "cell_type": "markdown",
   "id": "2173b428",
   "metadata": {},
   "source": [
    "### Target drift (numerical and categorical)\n",
    "\n",
    "Detects changes in numerical/categorical target and feature behavior."
   ]
  },
  {
   "cell_type": "code",
   "execution_count": null,
   "id": "0b8e95d7",
   "metadata": {},
   "outputs": [],
   "source": [
    "target_drift = Dashboard(tabs=[CatTargetDriftTab])"
   ]
  },
  {
   "cell_type": "code",
   "execution_count": null,
   "id": "897fc76b",
   "metadata": {},
   "outputs": [],
   "source": [
    "target_drift.calculate(train, test, column_mapping=column_mapping)"
   ]
  },
  {
   "cell_type": "code",
   "execution_count": null,
   "id": "ff9d5196",
   "metadata": {},
   "outputs": [],
   "source": [
    "target_drift.show()"
   ]
  },
  {
   "cell_type": "markdown",
   "id": "d253f8c1",
   "metadata": {},
   "source": [
    "### Classification model performance (Probabilistic and binary/multi-class)\n",
    "\n",
    "Analyzes the performance of a probabilistic classification model, quality of the model calibration, and model errors. Works both for binary and multi-class models."
   ]
  },
  {
   "cell_type": "code",
   "execution_count": null,
   "id": "577a75ed",
   "metadata": {},
   "outputs": [],
   "source": [
    "classification_mapping = {}\n",
    "\n",
    "classification_mapping['target'] = target_c\n",
    "classification_mapping['prediction'] = 'prediction'\n",
    "classification_mapping['numerical_features'] = feature_c"
   ]
  },
  {
   "cell_type": "code",
   "execution_count": null,
   "id": "c290c448",
   "metadata": {},
   "outputs": [],
   "source": [
    "train['target'] = train[target_c]\n",
    "test['target'] = test[target_c]\n",
    "train['prediction'] = clf.predict(train[feature_c]) \n",
    "test['prediction'] = clf.predict(test[feature_c])"
   ]
  },
  {
   "cell_type": "code",
   "execution_count": null,
   "id": "79a258cd",
   "metadata": {},
   "outputs": [],
   "source": [
    "classification_performance = Dashboard(tabs=[ClassificationPerformanceTab])\n",
    "classification_performance.calculate(train, test, column_mapping=classification_mapping)\n",
    "classification_performance.show()"
   ]
  },
  {
   "cell_type": "markdown",
   "id": "7b6d5ba9",
   "metadata": {},
   "source": [
    "### Creating Profiles and json exports"
   ]
  },
  {
   "cell_type": "code",
   "execution_count": null,
   "id": "0bca2269",
   "metadata": {},
   "outputs": [],
   "source": [
    "data_drift_profile = Profile(sections=[DataDriftProfileSection])"
   ]
  },
  {
   "cell_type": "code",
   "execution_count": null,
   "id": "57a7e003",
   "metadata": {},
   "outputs": [],
   "source": [
    "data_drift_profile.calculate(train, test, column_mapping=column_mapping)"
   ]
  },
  {
   "cell_type": "code",
   "execution_count": null,
   "id": "f1c39608",
   "metadata": {},
   "outputs": [],
   "source": [
    "data_drift_profile.json()"
   ]
  },
  {
   "cell_type": "markdown",
   "id": "79b9ea75",
   "metadata": {},
   "source": [
    "### Generate reports from the terminal\n",
    "\n",
    "```\n",
    "python -m evidently calculate dashboard --config config.json \n",
    "--reference reference.csv --current current.csv --output output_folder --report_name output_file_name\n",
    "```\n",
    "\n",
    "Where `config.json` is a configuration file for your report. E.g.\n",
    "```\n",
    "{\n",
    "  \"data_format\":{\n",
    "    \"separator\":\",\",\n",
    "    \"header\":true,\n",
    "    \"date_column\":null\n",
    "  },\n",
    "  \"column_mapping\":{},\n",
    "  \"profile_sections\":[\"data_drift\"],\n",
    "  \"pretty_print\":true\n",
    "}\n",
    "```"
   ]
  },
  {
   "cell_type": "code",
   "execution_count": null,
   "id": "8b309c39",
   "metadata": {},
   "outputs": [],
   "source": []
  }
 ],
 "metadata": {
  "kernelspec": {
   "display_name": "Python 3 (ipykernel)",
   "language": "python",
   "name": "python3"
  },
  "language_info": {
   "codemirror_mode": {
    "name": "ipython",
    "version": 3
   },
   "file_extension": ".py",
   "mimetype": "text/x-python",
   "name": "python",
   "nbconvert_exporter": "python",
   "pygments_lexer": "ipython3",
   "version": "3.9.7"
  }
 },
 "nbformat": 4,
 "nbformat_minor": 5
}
