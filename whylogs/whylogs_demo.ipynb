{
 "cells": [
  {
   "cell_type": "markdown",
   "id": "71b116d4-c7bf-499d-80c5-3fed721495ad",
   "metadata": {},
   "source": [
    "## Training a model"
   ]
  },
  {
   "cell_type": "code",
   "execution_count": 1,
   "id": "ebca6b17-0cb2-4038-bbe9-5d368b05c650",
   "metadata": {},
   "outputs": [],
   "source": [
    "import json\n",
    "import pandas as pd\n",
    "import numpy as np\n",
    "import joblib\n",
    "from sklearn.ensemble import RandomForestClassifier\n",
    "\n",
    "data = pd.read_csv(\"./churn.txt\")\n",
    "model_data = data.drop([\"State\", \"Phone\", \"Area Code\", \"Day Charge\", \"Eve Charge\", \"Night Charge\", \"Intl Charge\", \"Int'l Plan\", \"VMail Plan\"], axis=1)\n",
    "model_data = pd.get_dummies(model_data)\n",
    "model_data = pd.concat(\n",
    "    [model_data[\"Churn?_True.\"], model_data.drop([\"Churn?_False.\", \"Churn?_True.\"], axis=1)], axis=1\n",
    ")"
   ]
  },
  {
   "cell_type": "code",
   "execution_count": 2,
   "id": "278f37eb-49d9-4346-bb92-3ba22090d233",
   "metadata": {},
   "outputs": [],
   "source": [
    "labels = model_data.columns[1:]"
   ]
  },
  {
   "cell_type": "code",
   "execution_count": 3,
   "id": "f0480d25-1a7d-40f2-9026-9738181d3ef5",
   "metadata": {},
   "outputs": [
    {
     "data": {
      "text/plain": [
       "((3500, 11), (3500,))"
      ]
     },
     "execution_count": 3,
     "metadata": {},
     "output_type": "execute_result"
    }
   ],
   "source": [
    "train_data, validation_data, test_data = np.split(\n",
    "    model_data.sample(frac=1, random_state=1729),\n",
    "    [int(0.7 * len(model_data)), int(0.9 * len(model_data))],\n",
    ")\n",
    "X_train, y_train = train_data.iloc[:, 1:], train_data.iloc[:, 0]\n",
    "X_train.shape, y_train.shape"
   ]
  },
  {
   "cell_type": "code",
   "execution_count": 4,
   "id": "77bddede-3ec7-4679-a996-fba83bd3f799",
   "metadata": {},
   "outputs": [
    {
     "data": {
      "text/plain": [
       "RandomForestClassifier(max_depth=5, random_state=0)"
      ]
     },
     "execution_count": 4,
     "metadata": {},
     "output_type": "execute_result"
    }
   ],
   "source": [
    "clf = RandomForestClassifier(\n",
    "    max_depth=5,\n",
    "    random_state=0\n",
    ")\n",
    "clf.fit(X_train, y_train)"
   ]
  },
  {
   "cell_type": "code",
   "execution_count": 5,
   "id": "942a2684-4185-4ada-a3fe-e585d91dbc9f",
   "metadata": {},
   "outputs": [
    {
     "data": {
      "text/plain": [
       "['sklearn_model.joblib']"
      ]
     },
     "execution_count": 5,
     "metadata": {},
     "output_type": "execute_result"
    }
   ],
   "source": [
    "joblib.dump(clf, \"sklearn_model.joblib\")"
   ]
  },
  {
   "cell_type": "code",
   "execution_count": 6,
   "id": "e859c7c1-d7d9-411b-a65c-0a48a048f139",
   "metadata": {},
   "outputs": [],
   "source": [
    "test_data.to_csv(\"test.csv\", header=False, index=False)"
   ]
  },
  {
   "cell_type": "markdown",
   "id": "9bb461b8-3821-4006-8a95-dcab2e5ac2e1",
   "metadata": {
    "tags": []
   },
   "source": [
    "## Creating an application and serving it"
   ]
  },
  {
   "cell_type": "markdown",
   "id": "2c3944e6-cd8f-4f45-ad17-fbf1cd1de9ea",
   "metadata": {},
   "source": [
    "Configuration files looks like this:"
   ]
  },
  {
   "cell_type": "markdown",
   "id": "ef38e185-3ddb-4da5-8d8e-198ba5745c3a",
   "metadata": {},
   "source": [
    "```YAML\n",
    "project: example-project\n",
    "pipeline: example-pipeline\n",
    "verbose: false\n",
    "writers:\n",
    "- data_collection_consent: true\n",
    "  formats: ['protobuf']\n",
    "  type: whylabs\n",
    "```"
   ]
  },
  {
   "cell_type": "markdown",
   "id": "d9933bc5-ca20-4b8a-b30c-5bd189aa6c33",
   "metadata": {},
   "source": [
    ".env file with important relevant environment variables looks like this:"
   ]
  },
  {
   "cell_type": "markdown",
   "id": "7f1ed5cf-8887-410e-af44-e033681a49ff",
   "metadata": {
    "jp-MarkdownHeadingCollapsed": true,
    "tags": []
   },
   "source": [
    "```JSON\n",
    "# Flask\n",
    "FLASK_DEBUG=1\n",
    "\n",
    "# WhyLabs\n",
    "WHYLABS_CONFIG=.whylabs.yaml\n",
    "WHYLABS_API_KEY=\n",
    "WHYLABS_DEFAULT_ORG_ID=org-XXXX\n",
    "WHYLABS_DEFAULT_DATASET_ID=model-1\n",
    "WHYLABS_API_ENDPOINT=https://api.whylabsapp.com\n",
    "```"
   ]
  },
  {
   "cell_type": "markdown",
   "id": "3808dd98-be66-4fd6-9ff1-a47fbe00ed08",
   "metadata": {},
   "source": [
    "## Setting up the baseline (training data)"
   ]
  },
  {
   "cell_type": "code",
   "execution_count": null,
   "id": "4b4ea178-effa-414c-9a8a-8de6e757b2cc",
   "metadata": {},
   "outputs": [],
   "source": [
    "train = train_data.drop(\"Churn?_True.\", axis=1)"
   ]
  },
  {
   "cell_type": "code",
   "execution_count": 22,
   "id": "27e36b02-e76e-43aa-92d7-e4c796cd6fc6",
   "metadata": {},
   "outputs": [
    {
     "name": "stderr",
     "output_type": "stream",
     "text": [
      "Using API key ID: 5ISuDTANMy\n"
     ]
    }
   ],
   "source": [
    "import datetime\n",
    "from whylogs import get_or_create_session\n",
    "from dotenv import load_dotenv\n",
    "# load env variables\n",
    "load_dotenv()\n",
    "\n",
    "session = get_or_create_session(\".whylogs.yaml\")\n",
    "logger = session.logger(\n",
    "    dataset_name=\"my_deployed_model\", \n",
    "    dataset_timestamp=datetime.datetime.now(datetime.timezone.utc) - datetime.timedelta(days=1), \n",
    ")\n",
    "with logger:\n",
    "    logger.log_dataframe(train)"
   ]
  },
  {
   "cell_type": "code",
   "execution_count": 7,
   "id": "b461f28a-438f-48eb-8e6b-f5fc9522adba",
   "metadata": {},
   "outputs": [
    {
     "name": "stdout",
     "output_type": "stream",
     "text": [
      "Overwriting app.py\n"
     ]
    }
   ],
   "source": [
    "%%writefile app.py\n",
    "import datetime\n",
    "import json\n",
    "import numpy as np\n",
    "from flask import request, Flask, Response, jsonify\n",
    "from joblib import load\n",
    "from whylogs import get_or_create_session\n",
    "from dotenv import load_dotenv\n",
    "\n",
    "app = Flask(__name__)\n",
    "model_path = \"sklearn_model.joblib\"\n",
    "model = load(model_path)\n",
    "\n",
    "# load env variables\n",
    "load_dotenv()\n",
    "\n",
    "session = get_or_create_session(\".whylogs.yaml\")\n",
    "logger = session.logger(\n",
    "    dataset_name=\"my_deployed_model\", \n",
    "    dataset_timestamp=datetime.datetime.now(datetime.timezone.utc), \n",
    ")\n",
    "\n",
    "@app.route(\"/ping\", methods=[\"GET\"])\n",
    "def ping():\n",
    "    \"\"\"Determine if the container is working and healthy.\n",
    "    In this sample container, we declare\n",
    "    it healthy if we can load the model successfully.\"\"\"\n",
    "    status = 200\n",
    "    return Response(response={\"state\": \"healthy\"}, status=status, mimetype=\"application/json\")\n",
    "\n",
    "@app.route(\"/invocations\", methods=[\"POST\"])\n",
    "def predict():    \n",
    "    data = request.data.decode(\"utf-8\")\n",
    "    data = json.loads(data)\n",
    "    vector = [float(i) for i in data.values()]\n",
    "    vector = np.array(vector).reshape(1, -1)\n",
    "    pred = model.predict(vector)[0]\n",
    "    print(pred)\n",
    "    #Log to whylabs platform\n",
    "    #Log input vector as dictionary\n",
    "    logger.log(data)\n",
    "    \n",
    "    #Log predicted class\n",
    "    logger.log({\"churn\": pred})\n",
    "    return jsonify({\"prediction\": str(pred)})"
   ]
  },
  {
   "cell_type": "markdown",
   "id": "1e821736-92dc-4a61-afc1-2e0041e5d79c",
   "metadata": {
    "tags": []
   },
   "source": [
    "## Sending requests "
   ]
  },
  {
   "cell_type": "markdown",
   "id": "8fe6b592-f208-4faa-a4bf-439c43bb676c",
   "metadata": {},
   "source": [
    "Let's first do `flask run` to start the dev server with our app."
   ]
  },
  {
   "cell_type": "markdown",
   "id": "22862d9b-d4f2-43d4-a275-afe26d39ef7e",
   "metadata": {},
   "source": [
    "Check endpoint health."
   ]
  },
  {
   "cell_type": "code",
   "execution_count": 23,
   "id": "004a238b-da3c-43aa-beab-05883bfe3e31",
   "metadata": {
    "tags": []
   },
   "outputs": [
    {
     "data": {
      "text/plain": [
       "<Response [200]>"
      ]
     },
     "execution_count": 23,
     "metadata": {},
     "output_type": "execute_result"
    }
   ],
   "source": [
    "import requests\n",
    "\n",
    "url = \"http://127.0.0.1:5000\"\n",
    "requests.get(f\"{url}/ping\")"
   ]
  },
  {
   "cell_type": "code",
   "execution_count": 24,
   "id": "5cb22220-6b5d-4154-9f0a-05b63b48af37",
   "metadata": {
    "tags": []
   },
   "outputs": [
    {
     "name": "stdout",
     "output_type": "stream",
     "text": [
      "{\"Account Length\": \"62\", \"VMail Message\": \"0\", \"Day Mins\": \"5.072152061281491\", \"Day Calls\": \"5\", \"Eve Mins\": \"6.600411338234018\", \"Eve Calls\": \"2\", \"Night Mins\": \"3.533501078944156\", \"Night Calls\": \"300\", \"Intl Mins\": \"4.3952998987652565\", \"Intl Calls\": \"7\", \"CustServ Calls\": \"6\"}\n",
      "{'prediction': '0'}\n",
      "\n",
      "{\"Account Length\": \"5\", \"VMail Message\": \"0\", \"Day Mins\": \"12.524227291335832\", \"Day Calls\": \"2\", \"Eve Mins\": \"5.639471129269479\", \"Eve Calls\": \"5\", \"Night Mins\": \"4.937219265876419\", \"Night Calls\": \"150\", \"Intl Mins\": \"5.881787271425926\", \"Intl Calls\": \"5\", \"CustServ Calls\": \"3\"}\n",
      "{'prediction': '1'}\n",
      "\n",
      "{\"Account Length\": \"21\", \"VMail Message\": \"0\", \"Day Mins\": \"0.8438585898741922\", \"Day Calls\": \"3\", \"Eve Mins\": \"1.3477250198014177\", \"Eve Calls\": \"0\", \"Night Mins\": \"4.749775942599953\", \"Night Calls\": \"350\", \"Intl Mins\": \"4.384146052764612\", \"Intl Calls\": \"8\", \"CustServ Calls\": \"7\"}\n",
      "{'prediction': '0'}\n",
      "\n",
      "{\"Account Length\": \"140\", \"VMail Message\": \"0\", \"Day Mins\": \"1.5811272910168768\", \"Day Calls\": \"8\", \"Eve Mins\": \"7.377590521378837\", \"Eve Calls\": \"7\", \"Night Mins\": \"0.9399315726440474\", \"Night Calls\": \"300\", \"Intl Mins\": \"6.938571100449383\", \"Intl Calls\": \"2\", \"CustServ Calls\": \"4\"}\n",
      "{'prediction': '0'}\n",
      "\n",
      "{\"Account Length\": \"101\", \"VMail Message\": \"400\", \"Day Mins\": \"5.234842890778279\", \"Day Calls\": \"1\", \"Eve Mins\": \"2.76535485020516\", \"Eve Calls\": \"0\", \"Night Mins\": \"3.273098301114429\", \"Night Calls\": \"150\", \"Intl Mins\": \"2.272057243256864\", \"Intl Calls\": \"5\", \"CustServ Calls\": \"9\"}\n",
      "{'prediction': '1'}\n",
      "\n",
      "{\"Account Length\": \"191\", \"VMail Message\": \"100\", \"Day Mins\": \"13.261102943769288\", \"Day Calls\": \"4\", \"Eve Mins\": \"7.567433650091608\", \"Eve Calls\": \"4\", \"Night Mins\": \"4.305871058339482\", \"Night Calls\": \"150\", \"Intl Mins\": \"4.768465663991105\", \"Intl Calls\": \"4\", \"CustServ Calls\": \"3\"}\n",
      "{'prediction': '1'}\n",
      "\n",
      "{\"Account Length\": \"107\", \"VMail Message\": \"300\", \"Day Mins\": \"10.797385169320467\", \"Day Calls\": \"5\", \"Eve Mins\": \"6.903619320086634\", \"Eve Calls\": \"3\", \"Night Mins\": \"5.873994160867474\", \"Night Calls\": \"50\", \"Intl Mins\": \"4.367043721283685\", \"Intl Calls\": \"6\", \"CustServ Calls\": \"2\"}\n",
      "{'prediction': '1'}\n",
      "\n",
      "{\"Account Length\": \"61\", \"VMail Message\": \"0\", \"Day Mins\": \"3.1719593708600997\", \"Day Calls\": \"5\", \"Eve Mins\": \"7.192612132482752\", \"Eve Calls\": \"1\", \"Night Mins\": \"2.1608903709588896\", \"Night Calls\": \"300\", \"Intl Mins\": \"4.1725829829553325\", \"Intl Calls\": \"6\", \"CustServ Calls\": \"10\"}\n",
      "{'prediction': '0'}\n",
      "\n",
      "{\"Account Length\": \"5\", \"VMail Message\": \"400\", \"Day Mins\": \"7.926101580060937\", \"Day Calls\": \"4\", \"Eve Mins\": \"4.19841302997281\", \"Eve Calls\": \"0\", \"Night Mins\": \"4.285823889017821\", \"Night Calls\": \"0\", \"Intl Mins\": \"4.125243927916747\", \"Intl Calls\": \"6\", \"CustServ Calls\": \"7\"}\n",
      "{'prediction': '1'}\n",
      "\n",
      "{\"Account Length\": \"165\", \"VMail Message\": \"0\", \"Day Mins\": \"13.107513522948338\", \"Day Calls\": \"3\", \"Eve Mins\": \"7.128330808041529\", \"Eve Calls\": \"1\", \"Night Mins\": \"3.747842976185972\", \"Night Calls\": \"150\", \"Intl Mins\": \"4.336687944809357\", \"Intl Calls\": \"5\", \"CustServ Calls\": \"6\"}\n",
      "{'prediction': '1'}\n",
      "\n"
     ]
    }
   ],
   "source": [
    "test_dataset_size = 0\n",
    "with open(\"test.csv\", \"r\") as f:\n",
    "    for row in f:\n",
    "        if test_dataset_size < 10:\n",
    "            payload = row.rstrip(\"\\n\")\n",
    "            payload = dict(zip(labels, payload[2:].split(\",\")))\n",
    "            payload = json.dumps(payload)\n",
    "            print(payload)\n",
    "            print(requests.post(f\"{url}/invocations\", data=payload).json())\n",
    "            print()\n",
    "        #if test_dataset_size == 15:\n",
    "            \n",
    "        test_dataset_size += 1"
   ]
  },
  {
   "cell_type": "code",
   "execution_count": null,
   "id": "c8e5b0e2-e553-464a-a162-abc0981cb7e9",
   "metadata": {},
   "outputs": [],
   "source": []
  }
 ],
 "metadata": {
  "kernelspec": {
   "display_name": "Python 3 (ipykernel)",
   "language": "python",
   "name": "python3"
  },
  "language_info": {
   "codemirror_mode": {
    "name": "ipython",
    "version": 3
   },
   "file_extension": ".py",
   "mimetype": "text/x-python",
   "name": "python",
   "nbconvert_exporter": "python",
   "pygments_lexer": "ipython3",
   "version": "3.7.11"
  }
 },
 "nbformat": 4,
 "nbformat_minor": 5
}
